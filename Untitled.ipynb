{
 "cells": [
  {
   "cell_type": "code",
   "execution_count": 3,
   "metadata": {
    "collapsed": false
   },
   "outputs": [
    {
     "ename": "[string \"require 'loadcaffe'...\"]:2: loop or previous error loading module 'cudnn'\nstack traceback:\n\t[C]: in function 'require'\n\t[string \"require 'loadcaffe'...\"]:2: in main chunk\n\t[C]: in function 'xpcall'\n\t/home/giannis/torch/install/share/lua/5.1/itorch/main.lua:210: in function </home/giannis/torch/install/share/lua/5.1/itorch/main.lua:174>\n\t/home/giannis/torch/install/share/lua/5.1/lzmq/poller.lua:75: in function 'poll'\n\t...e/giannis/torch/install/share/lua/5.1/lzmq/impl/loop.lua:307: in function 'poll'\n\t...e/giannis/torch/install/share/lua/5.1/lzmq/impl/loop.lua:325: in function 'sleep_ex'\n\t...e/giannis/torch/install/share/lua/5.1/lzmq/impl/loop.lua:370: in function 'start'\n\t/home/giannis/torch/install/share/lua/5.1/itorch/main.lua:389: in main chunk\n\t[C]: in function 'require'\n\t(command line):1: in main chunk\n\t[C]: at 0x00405d50",
     "evalue": "",
     "output_type": "error",
     "traceback": [
      "[string \"require 'loadcaffe'...\"]:2: loop or previous error loading module 'cudnn'\nstack traceback:\n\t[C]: in function 'require'\n\t[string \"require 'loadcaffe'...\"]:2: in main chunk\n\t[C]: in function 'xpcall'\n\t/home/giannis/torch/install/share/lua/5.1/itorch/main.lua:210: in function </home/giannis/torch/install/share/lua/5.1/itorch/main.lua:174>\n\t/home/giannis/torch/install/share/lua/5.1/lzmq/poller.lua:75: in function 'poll'\n\t...e/giannis/torch/install/share/lua/5.1/lzmq/impl/loop.lua:307: in function 'poll'\n\t...e/giannis/torch/install/share/lua/5.1/lzmq/impl/loop.lua:325: in function 'sleep_ex'\n\t...e/giannis/torch/install/share/lua/5.1/lzmq/impl/loop.lua:370: in function 'start'\n\t/home/giannis/torch/install/share/lua/5.1/itorch/main.lua:389: in main chunk\n\t[C]: in function 'require'\n\t(command line):1: in main chunk\n\t[C]: at 0x00405d50"
     ]
    }
   ],
   "source": [
    "require 'loadcaffe'\n",
    "require 'cudnn'\n",
    "disp = require 'display'\n",
    "\n",
    "model = loadcaffe.load('CAM/models/deploy_alexnetplusCAM_imagenet.prototxt', 'CAM/models/imagenet_googleletCAM_train_iter_120000.caffemodel', 'cudnn')\n",
    "\n",
    "input = image.load(\"dataset/new/001_im.png\", 3, \"float\")\n",
    "\n",
    "itorch.image(input)\n",
    "--pred = model:forward(input)\n",
    "--itorch.image(pred)\n"
   ]
  },
  {
   "cell_type": "code",
   "execution_count": null,
   "metadata": {
    "collapsed": true
   },
   "outputs": [],
   "source": []
  },
  {
   "cell_type": "code",
   "execution_count": null,
   "metadata": {
    "collapsed": true
   },
   "outputs": [],
   "source": []
  }
 ],
 "metadata": {
  "kernelspec": {
   "display_name": "iTorch",
   "language": "lua",
   "name": "itorch"
  },
  "language_info": {
   "name": "lua",
   "version": "5.1"
  }
 },
 "nbformat": 4,
 "nbformat_minor": 2
}
